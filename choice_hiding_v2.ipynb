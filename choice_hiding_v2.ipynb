{
 "cells": [
  {
   "cell_type": "code",
   "execution_count": 4,
   "metadata": {},
   "outputs": [
    {
     "name": "stdout",
     "output_type": "stream",
     "text": [
      "0xf1575a1a76147451f939a49d150df3c7dac367c514d9ba7ede23968c5447be03\n",
      "66\n",
      "\n",
      "Need no padding.\n",
      "Choice is 03\n",
      "Use the following bytes32 as an input to the getHash function: 0xf1575a1a76147451f939a49d150df3c7dac367c514d9ba7ede23968c5447be03\n",
      "66\n"
     ]
    }
   ],
   "source": [
    "import random\n",
    "# generate 31 random bytes\n",
    "rand_num = random.getrandbits(256 - 8)\n",
    "rand_bytes = hex(rand_num)\n",
    "\n",
    "# choice: '00', '01', '02' (rock, paper, scissors)\n",
    "# concatenate choice to rand_bytes to make 32 bytes data_input\n",
    "choice = '03'\n",
    "data_input = rand_bytes + choice\n",
    "print(data_input)\n",
    "print(len(data_input))\n",
    "print()\n",
    "\n",
    "# need padding if data_input has less than 66 symbols (< 32 bytes)\n",
    "if len(data_input) < 66:\n",
    "  print(\"Need padding.\")\n",
    "  data_input = data_input[0:2] + '0' * (66 - len(data_input)) + data_input[2:]\n",
    "  assert(len(data_input) == 66)\n",
    "else:\n",
    "  print(\"Need no padding.\")\n",
    "print(\"Choice is\", choice)\n",
    "print(\"Use the following bytes32 as an input to the getHash function:\", data_input)\n",
    "print(len(data_input))"
   ]
  }
 ],
 "metadata": {
  "kernelspec": {
   "display_name": "Python 3",
   "language": "python",
   "name": "python3"
  },
  "language_info": {
   "codemirror_mode": {
    "name": "ipython",
    "version": 3
   },
   "file_extension": ".py",
   "mimetype": "text/x-python",
   "name": "python",
   "nbconvert_exporter": "python",
   "pygments_lexer": "ipython3",
   "version": "3.10.0"
  }
 },
 "nbformat": 4,
 "nbformat_minor": 2
}
